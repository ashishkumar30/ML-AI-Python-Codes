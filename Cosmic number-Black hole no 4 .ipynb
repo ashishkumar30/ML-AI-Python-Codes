{
 "cells": [
  {
   "cell_type": "markdown",
   "id": "22de7931",
   "metadata": {},
   "source": [
    "## Theory - Cosmic number / Black hole number 4 "
   ]
  },
  {
   "cell_type": "markdown",
   "id": "e2107077",
   "metadata": {},
   "source": [
    "4 being called a “Cosmic number” or something but never knew its also called a Black hole Number.\n",
    "\n",
    "Name any number. Doesn’t matter if its negative, positive, Rational, irrational, complex or anything.\n",
    "\n",
    "* For our example : Lets take 3.\n",
    "\n",
    "    * Now count the number of letters in its name.\n",
    "\n",
    "    * So THREE has 5 letters.\n",
    "\n",
    "    * Now count the no. of letters in 5.\n",
    "\n",
    "    * So FIVE has 4 letters.\n",
    "\n",
    "    * Keep going.Repeat the same step again. Count the no. of letters in 4 .\n",
    "\n",
    "    * Now you would only find yourself looping at 4.\n",
    "\n",
    "    * Fourever.\n",
    "\n",
    "    * You cannot escape this loop, in the same sense that you cannot espace a BH. So the name.\n",
    "\n",
    "    * You can do this with any number and you will always, eventually, wind up at four.\n",
    "\n",
    "    * We get stuck at four because its the only no. in the English language, spelled with the same no. of  letters as the quantity it represents.\n",
    "\n"
   ]
  },
  {
   "cell_type": "markdown",
   "id": "b40191d4",
   "metadata": {},
   "source": [
    "#### Example"
   ]
  },
  {
   "cell_type": "markdown",
   "id": "0e0342b9",
   "metadata": {},
   "source": [
    "* Start with any whole number, and write out its numeral in English.\n",
    "    * Start with the number 5 -> FIVE\n",
    "    * Count the number of characters in its spelling (count spaces and hyphens).\n",
    "    * 4 -> FOUR\n",
    "    * Repeat and you get 4.\n",
    "    * Repeat and you get 4.\n",
    "    * Once you reach 4, you never get out, so you have reached the black hole.\n",
    "\n",
    "* Start with the number 163 -> ONE-HUNDRED SIXTY-THREE\n",
    "    * Count the number of characters in its spelling (count spaces and hyphens).\n",
    "    * 23 -> 12 -> 6 -> 3 -> 5 -> 4\n",
    "    * Repeat and you get 4.\n",
    "    * Repeat and you get 4.\n",
    "    * Once you reach 4, you never get out, so you have reached the black hole."
   ]
  },
  {
   "cell_type": "markdown",
   "id": "0e200270",
   "metadata": {},
   "source": [
    "## Proof"
   ]
  },
  {
   "cell_type": "code",
   "execution_count": 1,
   "id": "95176f7d",
   "metadata": {},
   "outputs": [],
   "source": [
    "#pip install num2words\n",
    "from num2words import num2words"
   ]
  },
  {
   "cell_type": "code",
   "execution_count": 17,
   "id": "2c2ff64f",
   "metadata": {},
   "outputs": [],
   "source": [
    "\n",
    "# function to integer word to string\n",
    "def check(word):\n",
    "    return len(num2words(word)), (num2words(word))\n",
    "\n",
    "#Main function\n",
    "def black_hole_number(word):\n",
    "    print(\"*\"*20)\n",
    "    word_ = ''.join(word.split())\n",
    "    word= len(word) \n",
    "    print(f\"\\nInput word is {word_} \\n\\n \\tNow, word {word_} have {word} letters\")\n",
    "    \n",
    "    while True:\n",
    "        \n",
    "        word , name= check(word)\n",
    "        print(f\"\\tNow, word {name} have {word} letters\")\n",
    "        \n",
    "        #checking if 4 or not \n",
    "        if word == 4:\n",
    "            print(f\"\\nEnd of Process with 4 ! because {name} has 4 words! So reached the black hole\")\n",
    "            print(\"*\"*20,\"\\n\")\n",
    "            break\n",
    "            \n",
    "        else:\n",
    "            check(word)\n",
    "    "
   ]
  },
  {
   "cell_type": "markdown",
   "id": "54f3599f",
   "metadata": {},
   "source": [
    "* Run function"
   ]
  },
  {
   "cell_type": "code",
   "execution_count": 18,
   "id": "74b4659f",
   "metadata": {},
   "outputs": [
    {
     "name": "stdout",
     "output_type": "stream",
     "text": [
      "Input any word/string/name: Ashish Kumar\n",
      "********************\n",
      "\n",
      "Input word is AshishKumar \n",
      "\n",
      " \tNow, word AshishKumar have 12 letters\n",
      "\tNow, word twelve have 6 letters\n",
      "\tNow, word six have 3 letters\n",
      "\tNow, word three have 5 letters\n",
      "\tNow, word five have 4 letters\n",
      "\n",
      "End of Process with 4 ! because five has 4 words! So reached the black hole\n",
      "******************** \n",
      "\n"
     ]
    }
   ],
   "source": [
    "#take any input\n",
    "word= input(\"Input any word/string/name: \")\n",
    "\n",
    "black_hole_number(word)"
   ]
  },
  {
   "cell_type": "markdown",
   "id": "707db752",
   "metadata": {},
   "source": [
    "*****"
   ]
  },
  {
   "cell_type": "markdown",
   "id": "5383ebf6",
   "metadata": {},
   "source": [
    "## Multiple test Cases"
   ]
  },
  {
   "cell_type": "code",
   "execution_count": 21,
   "id": "75d44433",
   "metadata": {},
   "outputs": [],
   "source": [
    "test_cases =['1','', 'hi', \"elephant\",'laptop', \"india\", \"This is footboll ground\", 'twelve','loops']"
   ]
  },
  {
   "cell_type": "code",
   "execution_count": 22,
   "id": "75384ad2",
   "metadata": {},
   "outputs": [
    {
     "name": "stdout",
     "output_type": "stream",
     "text": [
      "********************\n",
      "\n",
      "Input word is 1 \n",
      "\n",
      " \tNow, word 1 have 1 letters\n",
      "\tNow, word one have 3 letters\n",
      "\tNow, word three have 5 letters\n",
      "\tNow, word five have 4 letters\n",
      "\n",
      "End of Process with 4 ! because five has 4 words! So reached the black hole\n",
      "******************** \n",
      "\n",
      "********************\n",
      "\n",
      "Input word is  \n",
      "\n",
      " \tNow, word  have 0 letters\n",
      "\tNow, word zero have 4 letters\n",
      "\n",
      "End of Process with 4 ! because zero has 4 words! So reached the black hole\n",
      "******************** \n",
      "\n",
      "********************\n",
      "\n",
      "Input word is hi \n",
      "\n",
      " \tNow, word hi have 2 letters\n",
      "\tNow, word two have 3 letters\n",
      "\tNow, word three have 5 letters\n",
      "\tNow, word five have 4 letters\n",
      "\n",
      "End of Process with 4 ! because five has 4 words! So reached the black hole\n",
      "******************** \n",
      "\n",
      "********************\n",
      "\n",
      "Input word is elephant \n",
      "\n",
      " \tNow, word elephant have 8 letters\n",
      "\tNow, word eight have 5 letters\n",
      "\tNow, word five have 4 letters\n",
      "\n",
      "End of Process with 4 ! because five has 4 words! So reached the black hole\n",
      "******************** \n",
      "\n",
      "********************\n",
      "\n",
      "Input word is laptop \n",
      "\n",
      " \tNow, word laptop have 6 letters\n",
      "\tNow, word six have 3 letters\n",
      "\tNow, word three have 5 letters\n",
      "\tNow, word five have 4 letters\n",
      "\n",
      "End of Process with 4 ! because five has 4 words! So reached the black hole\n",
      "******************** \n",
      "\n",
      "********************\n",
      "\n",
      "Input word is india \n",
      "\n",
      " \tNow, word india have 5 letters\n",
      "\tNow, word five have 4 letters\n",
      "\n",
      "End of Process with 4 ! because five has 4 words! So reached the black hole\n",
      "******************** \n",
      "\n",
      "********************\n",
      "\n",
      "Input word is Thisisfootbollground \n",
      "\n",
      " \tNow, word Thisisfootbollground have 23 letters\n",
      "\tNow, word twenty-three have 12 letters\n",
      "\tNow, word twelve have 6 letters\n",
      "\tNow, word six have 3 letters\n",
      "\tNow, word three have 5 letters\n",
      "\tNow, word five have 4 letters\n",
      "\n",
      "End of Process with 4 ! because five has 4 words! So reached the black hole\n",
      "******************** \n",
      "\n",
      "********************\n",
      "\n",
      "Input word is twelve \n",
      "\n",
      " \tNow, word twelve have 6 letters\n",
      "\tNow, word six have 3 letters\n",
      "\tNow, word three have 5 letters\n",
      "\tNow, word five have 4 letters\n",
      "\n",
      "End of Process with 4 ! because five has 4 words! So reached the black hole\n",
      "******************** \n",
      "\n",
      "********************\n",
      "\n",
      "Input word is loops \n",
      "\n",
      " \tNow, word loops have 5 letters\n",
      "\tNow, word five have 4 letters\n",
      "\n",
      "End of Process with 4 ! because five has 4 words! So reached the black hole\n",
      "******************** \n",
      "\n"
     ]
    },
    {
     "data": {
      "text/plain": [
       "[None, None, None, None, None, None, None, None, None]"
      ]
     },
     "execution_count": 22,
     "metadata": {},
     "output_type": "execute_result"
    }
   ],
   "source": [
    "#Run all cases\n",
    "list(map(black_hole_number, test_cases))"
   ]
  },
  {
   "cell_type": "markdown",
   "id": "3d0f7d68",
   "metadata": {},
   "source": [
    "*****"
   ]
  }
 ],
 "metadata": {
  "kernelspec": {
   "display_name": "Python 3",
   "language": "python",
   "name": "python3"
  },
  "language_info": {
   "codemirror_mode": {
    "name": "ipython",
    "version": 3
   },
   "file_extension": ".py",
   "mimetype": "text/x-python",
   "name": "python",
   "nbconvert_exporter": "python",
   "pygments_lexer": "ipython3",
   "version": "3.6.7"
  }
 },
 "nbformat": 4,
 "nbformat_minor": 5
}
