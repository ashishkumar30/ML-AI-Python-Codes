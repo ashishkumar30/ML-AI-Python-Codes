{
 "cells": [
  {
   "cell_type": "code",
   "execution_count": 7,
   "id": "333d5883",
   "metadata": {},
   "outputs": [],
   "source": [
    "#balanced paranthesis"
   ]
  },
  {
   "cell_type": "code",
   "execution_count": null,
   "id": "1d2b0878",
   "metadata": {},
   "outputs": [],
   "source": [
    "# Python3 code to Check for\n",
    "# balanced parentheses in an expression\n",
    "\n",
    "#easy\n",
    "def balanced(string):\n",
    "    \n",
    "    # using 2 loops \n",
    "    \n",
    "    brackets = ['()', '{}', '[]']\n",
    "    for i in string:\n",
    "        for x in brackets:\n",
    "            if x in string:\n",
    "                string =string.replace(x,'').strip()\n",
    "\n",
    "    if string=='':\n",
    "        return \"balanced\"\n",
    "    return \"unbalanced\"\n",
    "\n",
    "    \n",
    "#shortcut\n",
    "def balanced(string):\n",
    "    \n",
    "    # using one loop\n",
    "    \n",
    "    brackets = {'(':\"()\", '{':'{}', '[':'[]',\n",
    "                ')':\"()\", '}':'{}', ']':'[]'}\n",
    "\n",
    "    for i in string:\n",
    "        if i in brackets.keys():\n",
    "            value = brackets.get(i)\n",
    "            string = string.replace(value,'').strip()\n",
    "\n",
    "    if string=='':\n",
    "        return \"balanced\"\n",
    "    return \"unbalanced\"\n",
    "    \n",
    "\n",
    "#mostly used\n",
    "def balanced(myStr):\n",
    "    \n",
    "    #using stack\n",
    "    \n",
    "    open_list = [\"[\",\"{\",\"(\"]\n",
    "    close_list = [\"]\",\"}\",\")\"]\n",
    "    stack =[]\n",
    "    \n",
    "    for symbl in myStr:\n",
    "        if symbl in open_list:\n",
    "            # if available in open list\n",
    "            stack.append(symbl)\n",
    "        else:\n",
    "            # if avbailable in close list\n",
    "            index= close_list.index(symbl) # to find the opposite of symbol stored in [-1] loc of stack\n",
    "            match_symbol = open_list[index]\n",
    "            if match_symbol==stack[-1]:\n",
    "                stack.pop()\n",
    "            else:\n",
    "                stack.append(symbl)\n",
    "\n",
    "    if len(stack)!=0:\n",
    "        return \"Unbalanced\"\n",
    "    return \"balanced\""
   ]
  },
  {
   "cell_type": "code",
   "execution_count": 6,
   "id": "082ca6fe",
   "metadata": {},
   "outputs": [],
   "source": [
    "#longest string present"
   ]
  },
  {
   "cell_type": "code",
   "execution_count": null,
   "id": "83498cff",
   "metadata": {},
   "outputs": [],
   "source": [
    "def longeststringpresent(strs):\n",
    "    \"\"\"\n",
    "    :type strs: List[str]\n",
    "    :rtype: str\n",
    "    \"\"\"\n",
    "    arr = strs\n",
    "\n",
    "    arr = list(set(arr))\n",
    "    arr.sort(key=len)\n",
    "\n",
    "    s = arr[0]\n",
    "    l = len(s)\n",
    "\n",
    "    maxx=[]\n",
    "    for i in range(l):\n",
    "        for j in range(i + 1, l + 1):\n",
    "            stem = s[i:j]\n",
    "            maxx.append(stem)\n",
    "\n",
    "    maxx = list(set(maxx))\n",
    "    maxx.sort(key=len)  \n",
    "    maxx_final=[]\n",
    "\n",
    "    for x in maxx:\n",
    "        for y in arr:\n",
    "            if x in y:\n",
    "                maxx_final.append(x)\n",
    "\n",
    "    fi = list(set([x for x in maxx_final if maxx_final.count(x) == len(arr)]))\n",
    "    if fi:\n",
    "\n",
    "        fi.sort(key=len)\n",
    "        if len(fi)==2:\n",
    "            if len(fi[-1]) ==len(fi[0]):\n",
    "                return fi[0]\n",
    "\n",
    "        fi.sort(key=len)\n",
    "        return fi[-1]\n",
    "    else:\n",
    "        return \"\""
   ]
  },
  {
   "cell_type": "code",
   "execution_count": 5,
   "id": "e6c7a3b7",
   "metadata": {},
   "outputs": [],
   "source": [
    "#longest common prefeix"
   ]
  },
  {
   "cell_type": "code",
   "execution_count": 3,
   "id": "497532bb",
   "metadata": {},
   "outputs": [],
   "source": [
    "def longestCommonPrefix(strs):\n",
    "    \"\"\"\n",
    "    :type strs: List[str]\n",
    "    :rtype: str\n",
    "    \"\"\"\n",
    "    prefix=[]\n",
    "    num = len(strs)\n",
    "    for x in zip(*strs):\n",
    "        if len(set(x)) == 1:\n",
    "            prefix.append(x[0])\n",
    "        else:\n",
    "            break\n",
    "    return \"\".join(prefix)\n",
    "\n"
   ]
  },
  {
   "cell_type": "code",
   "execution_count": 4,
   "id": "751afa19",
   "metadata": {},
   "outputs": [],
   "source": [
    "#sum of two numbers"
   ]
  },
  {
   "cell_type": "code",
   "execution_count": 8,
   "id": "5fbfcf97",
   "metadata": {},
   "outputs": [
    {
     "name": "stdout",
     "output_type": "stream",
     "text": [
      "1 2\n"
     ]
    }
   ],
   "source": [
    "\n",
    "nums = [2,3,3]\n",
    "target =6 # op shoule be 1,2 bxz 3+3=6\n",
    "\n",
    "\n",
    "dic={}\n",
    "for i, val in enumerate(nums):\n",
    "    op = target-val\n",
    "    if op not in dic:\n",
    "        dic[val]=i\n",
    "    else:\n",
    "        print(dic[op], i )"
   ]
  },
  {
   "cell_type": "code",
   "execution_count": null,
   "id": "cfde295c",
   "metadata": {},
   "outputs": [],
   "source": []
  }
 ],
 "metadata": {
  "kernelspec": {
   "display_name": "Python 3",
   "language": "python",
   "name": "python3"
  },
  "language_info": {
   "codemirror_mode": {
    "name": "ipython",
    "version": 3
   },
   "file_extension": ".py",
   "mimetype": "text/x-python",
   "name": "python",
   "nbconvert_exporter": "python",
   "pygments_lexer": "ipython3",
   "version": "3.6.7"
  }
 },
 "nbformat": 4,
 "nbformat_minor": 5
}
