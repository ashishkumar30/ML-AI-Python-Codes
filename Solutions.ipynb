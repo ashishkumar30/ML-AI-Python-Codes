{
  "cells": [
    {
      "cell_type": "markdown",
      "metadata": {
        "id": "view-in-github",
        "colab_type": "text"
      },
      "source": [
        "<a href=\"https://colab.research.google.com/github/ashishkumar30/ML-AI-Python-Codes/blob/master/Solutions.ipynb\" target=\"_parent\"><img src=\"https://colab.research.google.com/assets/colab-badge.svg\" alt=\"Open In Colab\"/></a>"
      ]
    },
    {
      "cell_type": "code",
      "execution_count": null,
      "id": "333d5883",
      "metadata": {
        "id": "333d5883"
      },
      "outputs": [],
      "source": [
        "#balanced paranthesis"
      ]
    },
    {
      "cell_type": "code",
      "execution_count": null,
      "id": "1d2b0878",
      "metadata": {
        "id": "1d2b0878"
      },
      "outputs": [],
      "source": [
        "\n",
        "#easy\n",
        "def balanced(string):\n",
        "\n",
        "    # using 2 loops\n",
        "\n",
        "    brackets = ['()', '{}', '[]']\n",
        "    for i in string:\n",
        "        for x in brackets:\n",
        "            if x in string:\n",
        "                string =string.replace(x,'').strip()\n",
        "\n",
        "    if string=='':\n",
        "        return \"balanced\"\n",
        "    return \"unbalanced\"\n",
        "\n",
        "\n",
        "#shortcut\n",
        "def balanced2(string):\n",
        "\n",
        "    # using one loop\n",
        "\n",
        "    brackets = {'(':\"()\", '{':'{}', '[':'[]',\n",
        "                ')':\"()\", '}':'{}', ']':'[]'}\n",
        "\n",
        "    for i in string:\n",
        "        if i in brackets.keys():\n",
        "            value = brackets.get(i)\n",
        "            string = string.replace(value,'').strip()\n",
        "\n",
        "    if string=='':\n",
        "        return \"balanced\"\n",
        "    return \"unbalanced\"\n",
        "\n",
        "\n",
        "#mostly used\n",
        "def balanced3(myStr):\n",
        "\n",
        "    #using stack\n",
        "\n",
        "    open_list = [\"[\",\"{\",\"(\"]\n",
        "    close_list = [\"]\",\"}\",\")\"]\n",
        "    stack =[]\n",
        "\n",
        "    for symbl in myStr:\n",
        "        if symbl in open_list:\n",
        "            # if available in open list\n",
        "            stack.append(symbl)\n",
        "        else:\n",
        "            # if avbailable in close list\n",
        "            index= close_list.index(symbl) # to find the opposite of symbol stored in [-1] loc of stack\n",
        "            match_symbol = open_list[index]\n",
        "            if match_symbol==stack[-1]:\n",
        "                stack.pop()\n",
        "            else:\n",
        "                stack.append(symbl)\n",
        "\n",
        "    if len(stack)!=0:\n",
        "        return \"Unbalanced\"\n",
        "    return \"balanced\""
      ]
    },
    {
      "cell_type": "code",
      "source": [
        "balanced(\"[(]\")"
      ],
      "metadata": {
        "id": "tZGQ94Kahnr4",
        "outputId": "b66599b2-d505-4534-a7e9-b070781b142a",
        "colab": {
          "base_uri": "https://localhost:8080/",
          "height": 36
        }
      },
      "id": "tZGQ94Kahnr4",
      "execution_count": null,
      "outputs": [
        {
          "output_type": "execute_result",
          "data": {
            "text/plain": [
              "'Unbalanced'"
            ],
            "application/vnd.google.colaboratory.intrinsic+json": {
              "type": "string"
            }
          },
          "metadata": {},
          "execution_count": 4
        }
      ]
    },
    {
      "cell_type": "code",
      "execution_count": null,
      "id": "082ca6fe",
      "metadata": {
        "id": "082ca6fe"
      },
      "outputs": [],
      "source": [
        "#longest string present"
      ]
    },
    {
      "cell_type": "code",
      "execution_count": null,
      "id": "83498cff",
      "metadata": {
        "id": "83498cff"
      },
      "outputs": [],
      "source": [
        "def longeststringpresent(strs):\n",
        "    \"\"\"\n",
        "    :type strs: List[str]\n",
        "    :rtype: str\n",
        "    \"\"\"\n",
        "    arr = strs\n",
        "\n",
        "    arr = list(set(arr))\n",
        "    arr.sort(key=len)\n",
        "\n",
        "    s = arr[0]\n",
        "    l = len(s)\n",
        "\n",
        "    maxx=[]\n",
        "    for i in range(l):\n",
        "        for j in range(i + 1, l + 1):\n",
        "            stem = s[i:j]\n",
        "            maxx.append(stem)\n",
        "\n",
        "    maxx = list(set(maxx))\n",
        "    maxx.sort(key=len)\n",
        "    maxx_final=[]\n",
        "\n",
        "    for x in maxx:\n",
        "        for y in arr:\n",
        "            if x in y:\n",
        "                maxx_final.append(x)\n",
        "\n",
        "    fi = list(set([x for x in maxx_final if maxx_final.count(x) == len(arr)]))\n",
        "    if fi:\n",
        "\n",
        "        fi.sort(key=len)\n",
        "        if len(fi)==2:\n",
        "            if len(fi[-1]) ==len(fi[0]):\n",
        "                return fi[0]\n",
        "\n",
        "        fi.sort(key=len)\n",
        "        return fi[-1]\n",
        "    else:\n",
        "        return \"\""
      ]
    },
    {
      "cell_type": "code",
      "execution_count": null,
      "id": "e6c7a3b7",
      "metadata": {
        "id": "e6c7a3b7"
      },
      "outputs": [],
      "source": [
        "#longest common prefeix"
      ]
    },
    {
      "cell_type": "code",
      "execution_count": null,
      "id": "497532bb",
      "metadata": {
        "id": "497532bb"
      },
      "outputs": [],
      "source": [
        "def longestCommonPrefix(strs):\n",
        "    \"\"\"\n",
        "    :type strs: List[str]\n",
        "    :rtype: str\n",
        "    \"\"\"\n",
        "    prefix=[]\n",
        "    num = len(strs)\n",
        "    for x in zip(*strs):\n",
        "        if len(set(x)) == 1:\n",
        "            prefix.append(x[0])\n",
        "        else:\n",
        "            break\n",
        "    return \"\".join(prefix)\n",
        "\n"
      ]
    },
    {
      "cell_type": "code",
      "execution_count": null,
      "id": "751afa19",
      "metadata": {
        "id": "751afa19"
      },
      "outputs": [],
      "source": [
        "#sum of two numbers"
      ]
    },
    {
      "cell_type": "code",
      "execution_count": null,
      "id": "5fbfcf97",
      "metadata": {
        "id": "5fbfcf97",
        "outputId": "9fda76ad-9170-4856-df46-c20791937224"
      },
      "outputs": [
        {
          "name": "stdout",
          "output_type": "stream",
          "text": [
            "1 2\n"
          ]
        }
      ],
      "source": [
        "\n",
        "nums = [2,3,3]\n",
        "target =6 # op shoule be 1,2 bxz 3+3=6\n",
        "\n",
        "\n",
        "dic={}\n",
        "for i, val in enumerate(nums):\n",
        "    op = target-val\n",
        "    if op not in dic:\n",
        "        dic[val]=i\n",
        "    else:\n",
        "        print(dic[op], i )"
      ]
    },
    {
      "cell_type": "code",
      "execution_count": null,
      "id": "cfde295c",
      "metadata": {
        "id": "cfde295c"
      },
      "outputs": [],
      "source": [
        "# find missing number"
      ]
    },
    {
      "cell_type": "code",
      "source": [
        "def find_missing_number(nums):\n",
        "    n = len(nums) + 1  # The total number of integers if none were missing\n",
        "    expected_sum = n * (n + 1) // 2  # Sum of the first n natural numbers\n",
        "    actual_sum = sum(nums)  # Sum of numbers in the list\n",
        "    return expected_sum - actual_sum  # The difference is the missing number\n",
        "\n",
        "# Example usage :\n",
        "\n",
        "nums = [1, 2, 4, 5, 6]  # Example list\n",
        "missing_number = find_missing_number(nums)\n",
        "print(f\"The missing number is: {missing_number}\")"
      ],
      "metadata": {
        "colab": {
          "base_uri": "https://localhost:8080/"
        },
        "id": "PZGdnk6pPsBV",
        "outputId": "8922878e-c52c-4c8b-9886-c49ee0648e4d"
      },
      "id": "PZGdnk6pPsBV",
      "execution_count": null,
      "outputs": [
        {
          "output_type": "stream",
          "name": "stdout",
          "text": [
            "The missing number is: 3\n"
          ]
        }
      ]
    },
    {
      "cell_type": "code",
      "source": [
        "# find target"
      ],
      "metadata": {
        "id": "UlKc2JVHPsD3"
      },
      "id": "UlKc2JVHPsD3",
      "execution_count": null,
      "outputs": []
    },
    {
      "cell_type": "code",
      "source": [
        "class Solution(object):\n",
        "    def twoSum(self, nums, target):\n",
        "        \"\"\"\n",
        "        :type nums: List[int]\n",
        "        :type target: int\n",
        "        :rtype: List[int]\n",
        "        \"\"\"\n",
        "        dict_map = {}\n",
        "        for key, val in enumerate(nums):\n",
        "            output = target - val\n",
        "            if output not in dict_map:\n",
        "                dict_map[val]=key\n",
        "            else:\n",
        "                return dict_map[output],key\n"
      ],
      "metadata": {
        "id": "AyfZw-vaPzpS"
      },
      "id": "AyfZw-vaPzpS",
      "execution_count": null,
      "outputs": []
    },
    {
      "cell_type": "code",
      "source": [
        "#Longest Substring Without Repeating Characters"
      ],
      "metadata": {
        "id": "vo7WbyLBPztt"
      },
      "id": "vo7WbyLBPztt",
      "execution_count": null,
      "outputs": []
    },
    {
      "cell_type": "code",
      "source": [
        "#Longest Substring Without Repeating Characters\n",
        "\n",
        "class Solution(object):\n",
        "    def lengthOfLongestSubstring(self, s):\n",
        "        \"\"\"\n",
        "        :type s: str\n",
        "        :rtype: int\n",
        "        \"\"\"\n",
        "        all_data=0\n",
        "        for i in range(len(s)):\n",
        "            for j in range(i, len(s)+1):\n",
        "                string = s[i:j]\n",
        "                length = len(string)\n",
        "                if length>all_data:\n",
        "                    if len(set(string))==length:\n",
        "                        all_data=length\n",
        "        print(all_data)"
      ],
      "metadata": {
        "id": "uH1Bsx5cP6Wg"
      },
      "id": "uH1Bsx5cP6Wg",
      "execution_count": null,
      "outputs": []
    },
    {
      "cell_type": "code",
      "source": [
        "#Letter Combinations of a Phone Number"
      ],
      "metadata": {
        "id": "X7L41ur6P6Yx"
      },
      "id": "X7L41ur6P6Yx",
      "execution_count": null,
      "outputs": []
    },
    {
      "cell_type": "code",
      "source": [
        "class Solution(object):\n",
        "    def letterCombinations(self, digits):\n",
        "        \"\"\"\n",
        "        :type digits: str\n",
        "        :rtype: List[str]\n",
        "        \"\"\"\n",
        "        keyboard = {\n",
        "        \"2\": \"abc\",\n",
        "        \"3\": \"def\",\n",
        "        \"4\": \"ghi\",\n",
        "        \"5\": \"jkl\",\n",
        "        \"6\": \"mno\",\n",
        "        \"7\": \"pqrs\",\n",
        "        \"8\": \"tuv\",\n",
        "        \"9\": \"wxyz\"\n",
        "        }\n",
        "        from itertools import product\n",
        "        letters = [keyboard.get(x) for x in list(digits)]\n",
        "        combinations =  [''.join(x) for x in list(product(*letters))]\n",
        "        if combinations==[\"\"]:\n",
        "            return []\n",
        "        return combinations\n"
      ],
      "metadata": {
        "id": "6xVlKPiqQAOO"
      },
      "id": "6xVlKPiqQAOO",
      "execution_count": null,
      "outputs": []
    },
    {
      "cell_type": "code",
      "source": [
        "# valid anagram"
      ],
      "metadata": {
        "id": "c1uiBKFlQRgf"
      },
      "id": "c1uiBKFlQRgf",
      "execution_count": null,
      "outputs": []
    },
    {
      "cell_type": "code",
      "source": [
        "# valid anagram\n",
        "class Solution(object):\n",
        "    def isAnagram(self, s, t):\n",
        "        \"\"\"\n",
        "        :type s: str\n",
        "        :type t: str\n",
        "        :rtype: bool\n",
        "        \"\"\"\n",
        "        s = list(s)\n",
        "        s.sort()\n",
        "        t= list(t)\n",
        "        t.sort()\n",
        "        return s==t"
      ],
      "metadata": {
        "id": "lBdtg88YQDh-"
      },
      "id": "lBdtg88YQDh-",
      "execution_count": null,
      "outputs": []
    },
    {
      "cell_type": "code",
      "source": [
        "# show the best days to buy and sell stock"
      ],
      "metadata": {
        "id": "p-T2vI99QKKt"
      },
      "id": "p-T2vI99QKKt",
      "execution_count": null,
      "outputs": []
    },
    {
      "cell_type": "code",
      "source": [
        "price_list = [7, 1, 2, 4, 5, 3]  # Renamed to avoid confusion with the price variable\n",
        "price = 0\n",
        "dicts = {}\n",
        "\n",
        "for i in range(len(price_list)):\n",
        "    for j in range(i + 1, len(price_list)):\n",
        "        if price_list[j] - price_list[i] > price:\n",
        "            price = price_list[j] - price_list[i]\n",
        "            dicts['buy'] = i\n",
        "            dicts['sell'] = j\n",
        "\n",
        "dicts  # This will show the best days to buy and sell\n"
      ],
      "metadata": {
        "id": "4PljkBRYQE6O"
      },
      "id": "4PljkBRYQE6O",
      "execution_count": null,
      "outputs": []
    },
    {
      "cell_type": "code",
      "source": [
        "#Permutation"
      ],
      "metadata": {
        "id": "gIuuav61QPXh"
      },
      "id": "gIuuav61QPXh",
      "execution_count": null,
      "outputs": []
    },
    {
      "cell_type": "code",
      "source": [
        "def permute(nums):\n",
        "    result = []\n",
        "\n",
        "    def backtrack(path, options):\n",
        "        if not options:\n",
        "            result.append(path)\n",
        "            return\n",
        "\n",
        "        for i in range(len(options)):\n",
        "            backtrack(path + [options[i]], options[:i] + options[i+1:])\n",
        "\n",
        "    backtrack([], nums)\n",
        "    return result\n",
        "\n",
        "nums = [1, 2, 3]\n",
        "print(permute(nums))"
      ],
      "metadata": {
        "id": "euHPI7R4QE8j"
      },
      "id": "euHPI7R4QE8j",
      "execution_count": null,
      "outputs": []
    },
    {
      "cell_type": "code",
      "source": [
        "# To find longest Palindrome"
      ],
      "metadata": {
        "id": "kVxYcAUXtPaT"
      },
      "id": "kVxYcAUXtPaT",
      "execution_count": null,
      "outputs": []
    },
    {
      "cell_type": "code",
      "source": [
        "class Solution:\n",
        "    def longestPalindrome(self, s: str) -> str:\n",
        "        a= s\n",
        "        data=[]\n",
        "        for i in range(len(s)):\n",
        "            for j in range(i,len(s)+1):\n",
        "                t = s[i:j]\n",
        "                if t[::-1]==t:\n",
        "                    data.append(t)\n",
        "        data.sort(key=len)\n",
        "        if data:\n",
        "            return data[-1]"
      ],
      "metadata": {
        "id": "Jvvr8PIZtPdJ"
      },
      "id": "Jvvr8PIZtPdJ",
      "execution_count": null,
      "outputs": []
    },
    {
      "cell_type": "code",
      "source": [
        "#Palindrome Number"
      ],
      "metadata": {
        "id": "06TDzJLqtY1b"
      },
      "id": "06TDzJLqtY1b",
      "execution_count": null,
      "outputs": []
    },
    {
      "cell_type": "code",
      "source": [
        "class Solution:\n",
        "    def isPalindrome(self, x: int) -> bool:\n",
        "        return str(x)==str(x)[::-1]\n",
        ""
      ],
      "metadata": {
        "id": "t-2vURjUtPfv"
      },
      "id": "t-2vURjUtPfv",
      "execution_count": null,
      "outputs": []
    },
    {
      "cell_type": "code",
      "source": [
        "#Find the Index of the First Occurrence in a String"
      ],
      "metadata": {
        "id": "IEC-4I3ZtPiW"
      },
      "id": "IEC-4I3ZtPiW",
      "execution_count": null,
      "outputs": []
    },
    {
      "cell_type": "code",
      "source": [
        "class Solution:\n",
        "    def strStr(self, haystack: str, needle: str) -> int:\n",
        "        if needle in haystack:\n",
        "            return haystack.index(needle)\n",
        "        return -1\n",
        "\n",
        ""
      ],
      "metadata": {
        "id": "cl3ZwNNVtPlN"
      },
      "id": "cl3ZwNNVtPlN",
      "execution_count": null,
      "outputs": []
    },
    {
      "cell_type": "code",
      "source": [
        "# Length of Last Word"
      ],
      "metadata": {
        "id": "k8pB18IGtPnS"
      },
      "id": "k8pB18IGtPnS",
      "execution_count": null,
      "outputs": []
    },
    {
      "cell_type": "code",
      "source": [
        "class Solution:\n",
        "    def lengthOfLastWord(self, s: str) -> int:\n",
        "        return len(s.split()[-1])\n"
      ],
      "metadata": {
        "id": "JUQL6p-BtkV4"
      },
      "id": "JUQL6p-BtkV4",
      "execution_count": null,
      "outputs": []
    },
    {
      "cell_type": "code",
      "source": [
        "#Plus One"
      ],
      "metadata": {
        "id": "MZChQ9rmtr0D"
      },
      "id": "MZChQ9rmtr0D",
      "execution_count": null,
      "outputs": []
    },
    {
      "cell_type": "code",
      "source": [
        "class Solution:\n",
        "    def plusOne(self, digits):\n",
        "        return [int(x) for x in str(int(''.join([str(x) for x in digits]))+1)]"
      ],
      "metadata": {
        "id": "4bYVivKBtkYd"
      },
      "id": "4bYVivKBtkYd",
      "execution_count": null,
      "outputs": []
    },
    {
      "cell_type": "code",
      "source": [
        "#valid Palindrome"
      ],
      "metadata": {
        "id": "iazdJYuOtkdI"
      },
      "id": "iazdJYuOtkdI",
      "execution_count": null,
      "outputs": []
    },
    {
      "cell_type": "code",
      "source": [
        "class Solution:\n",
        "    def isPalindrome(self, s: str) -> bool:\n",
        "        from string import punctuation\n",
        "        for x in punctuation:\n",
        "            s=s.replace(x,'')\n",
        "        s=''.join(s.lower().split())\n",
        "        if s==s[::-1]:\n",
        "            return True\n",
        "        return False"
      ],
      "metadata": {
        "id": "u-77T2HStkff"
      },
      "id": "u-77T2HStkff",
      "execution_count": null,
      "outputs": []
    },
    {
      "cell_type": "code",
      "source": [
        "# Single number"
      ],
      "metadata": {
        "id": "8PLwRDJctkin"
      },
      "id": "8PLwRDJctkin",
      "execution_count": null,
      "outputs": []
    },
    {
      "cell_type": "code",
      "source": [
        "class Solution:\n",
        "    def singleNumber(self, nums) -> int:\n",
        "        result = 0\n",
        "        for num in nums:\n",
        "            result ^= num\n",
        "        return result\n",
        ""
      ],
      "metadata": {
        "id": "uhnROqmzt0M-"
      },
      "id": "uhnROqmzt0M-",
      "execution_count": null,
      "outputs": []
    },
    {
      "cell_type": "code",
      "source": [
        "# Return max sum of three"
      ],
      "metadata": {
        "id": "-l6NaBEOt0Pk"
      },
      "id": "-l6NaBEOt0Pk",
      "execution_count": null,
      "outputs": []
    },
    {
      "cell_type": "code",
      "source": [
        "def solution(s):\n",
        "    \"\"\"\n",
        "    args: list as input\n",
        "    return: int\n",
        "    Function will return max sum of three\n",
        "    \"\"\"\n",
        "\n",
        "    dict_={}\n",
        "    from itertools import permutations\n",
        "    for data in list(permutations(s,3)):\n",
        "        if len(data)==3:\n",
        "            mult = data[0]*data[1]*data[2] # multiply three data\n",
        "            dict_[mult]=data # store to dict\n",
        "\n",
        "    if dict_:\n",
        "        # if any data is available only\n",
        "        return max(dict_)\n",
        "    return None\n",
        "\n",
        "solution([-10,-30,-20,3,1,6,7,10,7,3,1] )"
      ],
      "metadata": {
        "id": "APMvWf9Xt4CT"
      },
      "id": "APMvWf9Xt4CT",
      "execution_count": null,
      "outputs": []
    },
    {
      "cell_type": "code",
      "source": [
        "# Permutations"
      ],
      "metadata": {
        "id": "JASUrX98t0Rp"
      },
      "id": "JASUrX98t0Rp",
      "execution_count": null,
      "outputs": []
    },
    {
      "cell_type": "code",
      "source": [
        "class Solution:\n",
        "    def permute(self, nums):\n",
        "        from itertools import permutations\n",
        "        return [list(x) for x in permutations(nums)]\n",
        ""
      ],
      "metadata": {
        "id": "7e8rBqMBt0UP"
      },
      "id": "7e8rBqMBt0UP",
      "execution_count": null,
      "outputs": []
    }
  ],
  "metadata": {
    "kernelspec": {
      "display_name": "Python 3",
      "language": "python",
      "name": "python3"
    },
    "language_info": {
      "codemirror_mode": {
        "name": "ipython",
        "version": 3
      },
      "file_extension": ".py",
      "mimetype": "text/x-python",
      "name": "python",
      "nbconvert_exporter": "python",
      "pygments_lexer": "ipython3",
      "version": "3.6.7"
    },
    "colab": {
      "provenance": [],
      "include_colab_link": true
    }
  },
  "nbformat": 4,
  "nbformat_minor": 5
}