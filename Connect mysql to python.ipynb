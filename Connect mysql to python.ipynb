{
 "cells": [
  {
   "cell_type": "markdown",
   "metadata": {
    "colab_type": "text",
    "id": "view-in-github"
   },
   "source": [
    "<a href=\"https://colab.research.google.com/github/ashishkumar30/ML-AI-Python-Codes/blob/master/Connect%20mysql%20to%20python.ipynb\" target=\"_parent\"><img src=\"https://colab.research.google.com/assets/colab-badge.svg\" alt=\"Open In Colab\"/></a>"
   ]
  },
<<<<<<< HEAD
  {
   "cell_type": "markdown",
   "metadata": {
    "id": "-htvUFIh4EKA"
   },
   "source": [
    "### Install all Libraries"
   ]
  },
  {
   "cell_type": "markdown",
   "metadata": {
    "id": "I-OrtMoQ2Y6_"
   },
   "source": [
    "Install mysql database in ubuntu by using command"
   ]
  },
  {
   "cell_type": "code",
   "execution_count": null,
   "metadata": {
    "id": "TijUybkX4HDT"
   },
   "outputs": [],
   "source": [
    "sudo apt install mysql-server"
   ]
  },
  {
   "cell_type": "markdown",
   "metadata": {
    "id": "7yrVXSnb2J_8"
   },
   "source": [
    "Install mysql python connector to connect daabase"
   ]
  },
  {
   "cell_type": "code",
   "execution_count": null,
   "metadata": {
    "id": "qt9ayrqC2KNO"
   },
   "outputs": [],
   "source": [
    "pip install mysql-connector-python"
   ]
  },
  {
   "cell_type": "markdown",
   "metadata": {
    "id": "QESvxB_v4NpV"
   },
   "source": [
    "### Setup database using shell"
   ]
  },
  {
   "cell_type": "markdown",
   "metadata": {
    "id": "ZZ-FuX0uzjC7"
   },
   "source": [
    "Ceate user "
   ]
  },
  {
   "cell_type": "code",
   "execution_count": null,
   "metadata": {
    "id": "l-en7Zt7zY1q"
   },
   "outputs": [],
   "source": [
    " mysql> CREATE USER 'ashish'@'localhost' IDENTIFIED BY 'my-strong-password-here';"
   ]
  },
  {
   "cell_type": "markdown",
   "metadata": {
    "id": "RGghd1yYzpm4"
   },
   "source": [
    "grant all permision"
   ]
  },
  {
   "cell_type": "code",
   "execution_count": null,
   "metadata": {
    "id": "iCjFrISZ3cUM"
   },
   "outputs": [],
   "source": [
    "GRANT ALL PRIVILEGES ON * . * TO 'ashish'@'localhost';"
   ]
  },
  {
   "cell_type": "markdown",
   "metadata": {
    "id": "SVryl7G1zysc"
   },
   "source": [
    "Python code to connect"
   ]
  },
  {
   "cell_type": "code",
   "execution_count": null,
   "metadata": {
    "id": "d-iThtBI3cYM"
   },
   "outputs": [],
   "source": [
    "import mysql.connector\n",
    "\n",
    "mydb = mysql.connector.connect(\n",
    "  host=\"localhost\",\n",
    "  user=\"ashish\",\n",
    "  password=\"ashish@123\"\n",
    "  database='storemviedata'\n",
    ")\n",
    "\n",
    "print(mydb)"
   ]
  },
  {
   "cell_type": "markdown",
   "metadata": {
    "id": "mfIyzwHe4RTl"
   },
   "source": [
    "Create table"
   ]
  },
  {
   "cell_type": "code",
   "execution_count": null,
   "metadata": {
    "id": "N5JAnE2v35Tb"
   },
   "outputs": [],
   "source": [
    "mycursor = mydb.cursor()\n",
    "\n",
    "mycursor.execute(\"CREATE TABLE customers (name VARCHAR(255), address VARCHAR(255))\")"
   ]
  },
  {
   "cell_type": "markdown",
   "metadata": {
    "id": "Z5BexRZ01p4L"
   },
   "source": [
    "Show tables in DB"
   ]
  },
  {
   "cell_type": "code",
   "execution_count": null,
   "metadata": {
    "id": "REf1d2Mc1qVD"
   },
   "outputs": [],
   "source": [
    "\n",
    "mycursor = mydb.cursor()\n",
    "\n",
    "mycursor.execute(\"SHOW TABLES\")\n",
    "\n",
    "for x in mycursor:\n",
    "    print(x)"
   ]
  },
  {
   "cell_type": "markdown",
   "metadata": {
    "id": "bVTjmgBV1-5D"
   },
   "source": [
    "Insert data to table customers"
   ]
  },
  {
   "cell_type": "code",
   "execution_count": null,
   "metadata": {
    "id": "umegeGXu1_El"
   },
   "outputs": [],
   "source": [
    "mycursor = mydb.cursor()\n",
    "\n",
    "sql = \"INSERT INTO customers (name, address) VALUES (%s, %s)\"\n",
    "val = (\"John\", \"Highway 21\")\n",
    "mycursor.execute(sql, val)\n",
    "\n",
    "mydb.commit()\n",
    "\n",
    "print(mycursor.rowcount, \"record inserted.\")"
   ]
  },
  {
   "cell_type": "markdown",
   "metadata": {
    "id": "GozeHf1h4Cbq"
   },
   "source": [
    "## Code to insert data in database"
   ]
  },
  {
   "cell_type": "code",
   "execution_count": null,
   "metadata": {
    "id": "XcCJ7Cpf0HSC"
   },
   "outputs": [],
   "source": [
    "class Database:\n",
    "    \"\"\" Class to work with database , Store data in database\"\"\"\n",
    "\n",
    "    def __init__(self, host, username, password, database):\n",
    "\n",
    "        self.host = host\n",
    "        self.username = username\n",
    "        self.password = password\n",
    "        self.database = database\n",
    "        \n",
    "        self.connection_object = connector.connect(host=self.host,\n",
    "                                                   username=self.username,\n",
    "                                                   password=self.password,\n",
    "                                                   database=self.database,\n",
    "                                                   )\n",
    "\n",
    "    def create_table(self, ):\n",
    "\n",
    "        try:\n",
    "            cur = self.connection_object.cursor()\n",
    "\n",
    "            # create table if NOT exist\n",
    "\n",
    "            cur.execute(\n",
    "                \"create table if not exists Movie_table(MovieName varchar(200) not null, DaysfromRelease varchar(20) not null, Date varchar(30) not null, BoxOfficeCollection varchar(20) not null)\")\n",
    "\n",
    "        except Exception as e:\n",
    "\n",
    "            print(\"Error in creating table\", str(e))\n",
    "            self.connection_object.rollback()\n",
    "\n",
    "    def insert_data(self, movie_name_insert, day_insert, converted_day_insert, collection_insert):\n",
    "\n",
    "        # insert data to table\n",
    "\n",
    "        cur = self.connection_object.cursor()\n",
    "        try:\n",
    "            sql = \"insert into Movie_table(MovieName, DaysfromRelease, Date, BoxOfficeCollection) values (%s, %s, %s, %s)\"\n",
    "\n",
    "            # The row values are provided in the form of tuple\n",
    "            val = (movie_name_insert, day_insert, converted_day_insert, collection_insert)\n",
    "\n",
    "            # inserting the values into the table\n",
    "            cur.execute(sql, val)\n",
    "\n",
    "            # commit the transaction\n",
    "            self.connection_object.commit()\n",
    "            # print(\"Record Inserted\")\n",
    "\n",
    "        except Exception as e:\n",
    "\n",
    "            print(\"Error in inserting record\", str(e))\n",
    "            self.connection_object.rollback()\n",
    "\n",
    "    def show_table_data(self):\n",
    "\n",
    "        try:\n",
    "            cur = self.connection_object.cursor()\n",
    "            cur.execute(\"select * from Movie_table\")\n",
    "            # fetching the rows from the cursor object\n",
    "            result = cur.fetchall()\n",
    "            # printing the result\n",
    "\n",
    "            print(\"Fetching all data from table\")\n",
    "\n",
    "            for data_fetch in result:\n",
    "                print(data_fetch)\n",
    "\n",
    "        except Exception as e:\n",
    "            print(\"Error while fetching data\", str(e))\n",
    "            self.connection_object.rollback()\n",
    "\n",
    "        # close all now\n",
    "        self.connection_object.close()\n"
   ]
  },
  {
   "cell_type": "code",
   "execution_count": null,
   "metadata": {
    "id": "djU_fBFm0f8j"
   },
   "outputs": [],
   "source": []
  },
  {
   "cell_type": "code",
   "execution_count": null,
   "metadata": {
    "id": "YUgCbAuT0nBU"
   },
   "outputs": [],
   "source": []
  }
 ],
 "metadata": {
  "colab": {
   "authorship_tag": "ABX9TyMyhMiblC1o0aFYXWt8PP8w",
   "collapsed_sections": [],
   "include_colab_link": true,
   "name": "Connect mysql to python .ipynb",
   "private_outputs": true,
   "provenance": []
  },
  "kernelspec": {
   "display_name": "Python 3",
   "language": "python",
   "name": "python3"
  },
  "language_info": {
   "codemirror_mode": {
    "name": "ipython",
    "version": 3
   },
   "file_extension": ".py",
   "mimetype": "text/x-python",
   "name": "python",
   "nbconvert_exporter": "python",
   "pygments_lexer": "ipython3",
   "version": "3.6.7"
  }
 },
 "nbformat": 4,
 "nbformat_minor": 1
=======
  "cells": [
    {
      "cell_type": "markdown",
      "metadata": {
        "id": "view-in-github",
        "colab_type": "text"
      },
      "source": [
        "<a href=\"https://colab.research.google.com/github/ashishkumar30/ML-AI-Python-Codes/blob/master/Connect%20mysql%20to%20python.ipynb\" target=\"_parent\"><img src=\"https://colab.research.google.com/assets/colab-badge.svg\" alt=\"Open In Colab\"/></a>"
      ]
    },
    {
      "cell_type": "markdown",
      "metadata": {
        "id": "-htvUFIh4EKA"
      },
      "source": [
        "### Install all Libraries"
      ]
    },
    {
      "cell_type": "markdown",
      "metadata": {
        "id": "I-OrtMoQ2Y6_"
      },
      "source": [
        "Install mysql database in ubantu by using command"
      ]
    },
    {
      "cell_type": "code",
      "metadata": {
        "id": "TijUybkX4HDT"
      },
      "source": [
        "sudo apt install mysql-server"
      ],
      "execution_count": null,
      "outputs": []
    },
    {
      "cell_type": "markdown",
      "metadata": {
        "id": "7yrVXSnb2J_8"
      },
      "source": [
        "Install mysql python connector to connect daabase"
      ]
    },
    {
      "cell_type": "code",
      "metadata": {
        "id": "qt9ayrqC2KNO"
      },
      "source": [
        "pip install mysql-connector-python"
      ],
      "execution_count": null,
      "outputs": []
    },
    {
      "cell_type": "markdown",
      "metadata": {
        "id": "QESvxB_v4NpV"
      },
      "source": [
        "### Setup database using shell"
      ]
    },
    {
      "cell_type": "markdown",
      "metadata": {
        "id": "ZZ-FuX0uzjC7"
      },
      "source": [
        "Create user "
      ]
    },
    {
      "cell_type": "code",
      "metadata": {
        "id": "l-en7Zt7zY1q"
      },
      "source": [
        " mysql> CREATE USER 'ashish'@'localhost' IDENTIFIED BY 'my-strong-password-here';"
      ],
      "execution_count": null,
      "outputs": []
    },
    {
      "cell_type": "markdown",
      "metadata": {
        "id": "RGghd1yYzpm4"
      },
      "source": [
        "grant all permision"
      ]
    },
    {
      "cell_type": "code",
      "metadata": {
        "id": "iCjFrISZ3cUM"
      },
      "source": [
        "GRANT ALL PRIVILEGES ON * . * TO 'ashish'@'localhost';"
      ],
      "execution_count": null,
      "outputs": []
    },
    {
      "cell_type": "markdown",
      "metadata": {
        "id": "SVryl7G1zysc"
      },
      "source": [
        "Python code to connect"
      ]
    },
    {
      "cell_type": "code",
      "metadata": {
        "id": "d-iThtBI3cYM"
      },
      "source": [
        "import mysql.connector\n",
        "\n",
        "mydb = mysql.connector.connect(\n",
        "  host=\"localhost\",\n",
        "  user=\"ashish\",\n",
        "  password=\"ashish@123\",\n",
        "  database='storemviedata'\n",
        ")\n",
        "\n",
        "print(mydb)"
      ],
      "execution_count": null,
      "outputs": []
    },
    {
      "cell_type": "markdown",
      "metadata": {
        "id": "mfIyzwHe4RTl"
      },
      "source": [
        "Create table"
      ]
    },
    {
      "cell_type": "code",
      "metadata": {
        "id": "N5JAnE2v35Tb"
      },
      "source": [
        "mycursor = mydb.cursor()\n",
        "\n",
        "mycursor.execute(\"CREATE TABLE customers (name VARCHAR(255), address VARCHAR(255))\")"
      ],
      "execution_count": null,
      "outputs": []
    },
    {
      "cell_type": "markdown",
      "metadata": {
        "id": "Z5BexRZ01p4L"
      },
      "source": [
        "Show tables in DB"
      ]
    },
    {
      "cell_type": "code",
      "metadata": {
        "id": "REf1d2Mc1qVD"
      },
      "source": [
        "\n",
        "mycursor = mydb.cursor()\n",
        "\n",
        "mycursor.execute(\"SHOW TABLES\")\n",
        "\n",
        "for x in mycursor:\n",
        "  print"
      ],
      "execution_count": null,
      "outputs": []
    },
    {
      "cell_type": "markdown",
      "metadata": {
        "id": "bVTjmgBV1-5D"
      },
      "source": [
        "Insert data to table customers"
      ]
    },
    {
      "cell_type": "code",
      "metadata": {
        "id": "umegeGXu1_El"
      },
      "source": [
        "mycursor = mydb.cursor()\n",
        "\n",
        "sql = \"INSERT INTO customers (name, address) VALUES (%s, %s)\"\n",
        "val = (\"John\", \"Highway 21\")\n",
        "mycursor.execute(sql, val)\n",
        "\n",
        "mydb.commit()\n",
        "\n",
        "print(mycursor.rowcount, \"record inserted.\")"
      ],
      "execution_count": null,
      "outputs": []
    },
    {
      "cell_type": "markdown",
      "metadata": {
        "id": "GozeHf1h4Cbq"
      },
      "source": [
        "## Code to insert data in database"
      ]
    },
    {
      "cell_type": "code",
      "metadata": {
        "id": "XcCJ7Cpf0HSC"
      },
      "source": [
        "class Database:\n",
        "    \"\"\" Class to work with database , Store data in database\"\"\"\n",
        "\n",
        "    def __init__(self, host, username, password, database):\n",
        "\n",
        "        self.host = host\n",
        "        self.username = username\n",
        "        self.password = password\n",
        "        self.database = database\n",
        "        \n",
        "        self.connection_object = connector.connect(host=self.host,\n",
        "                                                   username=self.username,\n",
        "                                                   password=self.password,\n",
        "                                                   database=self.database\n",
        "                                                   )\n",
        "\n",
        "    def create_table(self):\n",
        "\n",
        "        try:\n",
        "            cur = self.connection_object.cursor()\n",
        "\n",
        "            # create table if NOT exist\n",
        "\n",
        "            cur.execute(\n",
        "                \"create table if not exists Movie_table(MovieName varchar(200) not null, DaysfromRelease varchar(20) not null, Date varchar(30) not null, BoxOfficeCollection varchar(20) not null)\")\n",
        "\n",
        "        except Exception as e:\n",
        "\n",
        "            print(\"Error in creating table\", str(e))\n",
        "            self.connection_object.rollback()\n",
        "\n",
        "    def insert_data(self, movie_name_insert, day_insert, converted_day_insert, collection_insert):\n",
        "\n",
        "        # insert data to table\n",
        "\n",
        "        cur = self.connection_object.cursor()\n",
        "        try:\n",
        "            sql = \"insert into Movie_table(MovieName, DaysfromRelease, Date, BoxOfficeCollection) values (%s, %s, %s, %s)\"\n",
        "\n",
        "            # The row values are provided in the form of tuple\n",
        "            val = (movie_name_insert, day_insert, converted_day_insert, collection_insert)\n",
        "\n",
        "            # inserting the values into the table\n",
        "            cur.execute(sql, val)\n",
        "\n",
        "            # commit the transaction\n",
        "            self.connection_object.commit()\n",
        "            # print(\"Record Inserted\")\n",
        "\n",
        "        except Exception as e:\n",
        "\n",
        "            print(\"Error in inserting record\", str(e))\n",
        "            self.connection_object.rollback()\n",
        "\n",
        "    def show_table_data(self):\n",
        "\n",
        "        try:\n",
        "            cur = self.connection_object.cursor()\n",
        "            cur.execute(\"select * from Movie_table\")\n",
        "            # fetching the rows from the cursor object\n",
        "            result = cur.fetchall()\n",
        "            # printing the result\n",
        "\n",
        "            print(\"Fetching all data from table\")\n",
        "\n",
        "            for data_fetch in result:\n",
        "                print(data_fetch)\n",
        "\n",
        "        except Exception as e:\n",
        "            print(\"Error while fetching data\", str(e))\n",
        "            self.connection_object.rollback()\n",
        "\n",
        "        # close all now\n",
        "        self.connection_object.close()\n"
      ],
      "execution_count": null,
      "outputs": []
    }
  ]
>>>>>>> b1f8a1a5ee93bce59458624cfaaaa3b4960f9b2d
}
