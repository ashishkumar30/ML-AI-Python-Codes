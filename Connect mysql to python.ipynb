{
 "cells": [
  {
   "cell_type": "markdown",
   "id": "2b05458c",
   "metadata": {},
   "source": [
    "## Install all Libraries"
   ]
  },
  {
   "cell_type": "markdown",
   "id": "b1abc4ec",
   "metadata": {},
   "source": [
    "Install mysql database in linux by using terminal"
   ]
  },
  {
   "cell_type": "raw",
   "id": "2674d359",
   "metadata": {},
   "source": [
    "sudo apt install mysql-server\n",
    "install mysql python connector to connect daabase\n",
    "pip install mysql-connector-python"
   ]
  },
  {
   "cell_type": "markdown",
   "id": "279d7156",
   "metadata": {},
   "source": [
    "## Setup database using brew -mac os"
   ]
  },
  {
   "cell_type": "raw",
   "id": "9bcef0c4",
   "metadata": {},
   "source": [
    "brew install mysql"
   ]
  },
  {
   "cell_type": "raw",
   "id": "879564a0",
   "metadata": {},
   "source": [
    "brew services start mysql"
   ]
  },
  {
   "cell_type": "raw",
   "id": "8575145b",
   "metadata": {},
   "source": [
    "mysql_secure_installation"
   ]
  },
  {
   "cell_type": "raw",
   "id": "af829d82",
   "metadata": {},
   "source": [
    "mysql -u root -p"
   ]
  },
  {
   "cell_type": "markdown",
   "id": "d141efc0",
   "metadata": {},
   "source": [
    "## Create user"
   ]
  },
  {
   "cell_type": "raw",
   "id": "9649792a",
   "metadata": {},
   "source": [
    "mysql> CREATE USER 'ashish'@'localhost' IDENTIFIED BY 'my-strong-password-here';"
   ]
  },
  {
   "cell_type": "markdown",
   "id": "e1701abb",
   "metadata": {},
   "source": [
    "## Grant all permision"
   ]
  },
  {
   "cell_type": "raw",
   "id": "a458d2ab",
   "metadata": {},
   "source": [
    "GRANT ALL PRIVILEGES ON * . * TO 'ashish'@'localhost';"
   ]
  },
  {
   "cell_type": "markdown",
   "id": "f708df5f",
   "metadata": {},
   "source": [
    "## Python code to connect"
   ]
  },
  {
   "cell_type": "code",
   "execution_count": null,
   "id": "fa92d3b4",
   "metadata": {},
   "outputs": [],
   "source": [
    "import mysql.connector\n",
    "\n",
    "mydb = mysql.connector.connect(\n",
    "  host=\"localhost\",\n",
    "  user=\"ashish\",\n",
    "  password=\"ashish@123\"\n",
    "  database='storemviedata'\n",
    ")\n",
    "\n",
    "print(mydb)"
   ]
  },
  {
   "cell_type": "markdown",
   "id": "7e1b9b69",
   "metadata": {},
   "source": [
    "# Create table\n"
   ]
  },
  {
   "cell_type": "code",
   "execution_count": null,
   "id": "1d36fdc6",
   "metadata": {},
   "outputs": [],
   "source": [
    "mycursor = mydb.cursor()\n",
    "\n",
    "mycursor.execute(\"CREATE TABLE customers (name VARCHAR(255), address VARCHAR(255))\")\n",
    "Show tables in DB"
   ]
  },
  {
   "cell_type": "markdown",
   "id": "92ac777f",
   "metadata": {},
   "source": [
    "# Show tables in DB"
   ]
  },
  {
   "cell_type": "code",
   "execution_count": null,
   "id": "77c10222",
   "metadata": {},
   "outputs": [],
   "source": [
    "mycursor = mydb.cursor()\n",
    "\n",
    "mycursor.execute(\"SHOW TABLES\")\n",
    "\n",
    "for x in mycursor:\n",
    "    print(x)"
   ]
  },
  {
   "cell_type": "markdown",
   "id": "348cd8b6",
   "metadata": {},
   "source": [
    "# Insert data to table customers\n"
   ]
  },
  {
   "cell_type": "code",
   "execution_count": null,
   "id": "e4b09f32",
   "metadata": {},
   "outputs": [],
   "source": [
    "mycursor = mydb.cursor()\n",
    "\n",
    "sql = \"INSERT INTO customers (name, address) VALUES (%s, %s)\"\n",
    "val = (\"John\", \"Highway 21\")\n",
    "mycursor.execute(sql, val)\n",
    "\n",
    "mydb.commit()\n",
    "\n",
    "print(mycursor.rowcount, \"record inserted.\")"
   ]
  },
  {
   "cell_type": "markdown",
   "id": "db20f630",
   "metadata": {},
   "source": [
    "## Code to insert data in database"
   ]
  },
  {
   "cell_type": "code",
   "execution_count": null,
   "id": "445cd83f",
   "metadata": {},
   "outputs": [],
   "source": [
    "class Database:\n",
    "    \"\"\" Class to work with database , Store data in database\"\"\"\n",
    "\n",
    "    def __init__(self, host, username, password, database):\n",
    "\n",
    "        self.host = host\n",
    "        self.username = username\n",
    "        self.password = password\n",
    "        self.database = database\n",
    "        \n",
    "        self.connection_object = connector.connect(host=self.host,\n",
    "                                                   username=self.username,\n",
    "                                                   password=self.password,\n",
    "                                                   database=self.database,\n",
    "                                                   )\n",
    "\n",
    "    def create_table(self, ):\n",
    "\n",
    "        try:\n",
    "            cur = self.connection_object.cursor()\n",
    "\n",
    "            # create table if NOT exist\n",
    "\n",
    "            cur.execute(\n",
    "                \"create table if not exists Movie_table(MovieName varchar(200) not null, DaysfromRelease varchar(20) not null, Date varchar(30) not null, BoxOfficeCollection varchar(20) not null)\")\n",
    "\n",
    "        except Exception as e:\n",
    "\n",
    "            print(\"Error in creating table\", str(e))\n",
    "            self.connection_object.rollback()\n",
    "\n",
    "    def insert_data(self, movie_name_insert, day_insert, converted_day_insert, collection_insert):\n",
    "        \n",
    "        # insert data to table\n",
    "\n",
    "        cur = self.connection_object.cursor()\n",
    "        try:\n",
    "            sql = \"insert into Movie_table(MovieName, DaysfromRelease, Date, BoxOfficeCollection) values (%s, %s, %s, %s)\"\n",
    "\n",
    "            # The row values are provided in the form of tuple\n",
    "            val = (movie_name_insert, day_insert, converted_day_insert, collection_insert)\n",
    "\n",
    "            # inserting the values into the table\n",
    "            cur.execute(sql, val)\n",
    "\n",
    "            # commit the transaction\n",
    "            self.connection_object.commit()\n",
    "            # print(\"Record Inserted\")\n",
    "\n",
    "        except Exception as e:\n",
    "\n",
    "            print(\"Error in inserting record\", str(e))\n",
    "            self.connection_object.rollback()\n",
    "    \n",
    "    def show_table_data(self):\n",
    "\n",
    "        try:\n",
    "            cur = self.connection_object.cursor()\n",
    "            cur.execute(\"select * from Movie_table\")\n",
    "            # fetching the rows from the cursor object\n",
    "            result = cur.fetchall()\n",
    "            # printing the result\n",
    "\n",
    "            print(\"Fetching all data from table\")\n",
    "\n",
    "            for data_fetch in result:\n",
    "                print(data_fetch)\n",
    "\n",
    "        except Exception as e:\n",
    "            print(\"Error while fetching data\", str(e))\n",
    "            self.connection_object.rollback()\n",
    "\n",
    "        # close all now\n",
    "        self.connection_object.close()\n"
   ]
  }
 ],
 "metadata": {
  "kernelspec": {
   "display_name": "Python 3",
   "language": "python",
   "name": "python3"
  },
  "language_info": {
   "codemirror_mode": {
    "name": "ipython",
    "version": 3
   },
   "file_extension": ".py",
   "mimetype": "text/x-python",
   "name": "python",
   "nbconvert_exporter": "python",
   "pygments_lexer": "ipython3",
   "version": "3.6.7"
  }
 },
 "nbformat": 4,
 "nbformat_minor": 5
}
